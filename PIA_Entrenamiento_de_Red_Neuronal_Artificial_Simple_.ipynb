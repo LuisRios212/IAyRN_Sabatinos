{
  "cells": [
    {
      "cell_type": "markdown",
      "metadata": {
        "id": "view-in-github",
        "colab_type": "text"
      },
      "source": [
        "<a href=\"https://colab.research.google.com/github/LuisRios212/IAyRN_Sabatinos/blob/main/PIA_Entrenamiento_de_Red_Neuronal_Artificial_Simple_.ipynb\" target=\"_parent\"><img src=\"https://colab.research.google.com/assets/colab-badge.svg\" alt=\"Open In Colab\"/></a>"
      ]
    },
    {
      "cell_type": "markdown",
      "metadata": {
        "id": "xgAVqCodUgvM"
      },
      "source": [
        "**Librerias a utilizar**\n",
        "\n"
      ]
    },
    {
      "cell_type": "code",
      "execution_count": 1,
      "metadata": {
        "colab": {
          "base_uri": "https://localhost:8080/"
        },
        "id": "7H9WmVVVStAt",
        "outputId": "ed8d2d9a-d2c4-4ec5-e0c1-bdb7009796b5"
      },
      "outputs": [
        {
          "output_type": "stream",
          "name": "stdout",
          "text": [
            "2.12.0\n"
          ]
        }
      ],
      "source": [
        "#TensorFlow y tf.keras\n",
        "import tensorflow as tf\n",
        "from tensorflow import keras\n",
        "\n",
        "#Librerias de ayuda\n",
        "import numpy as np\n",
        "import matplotlib.pyplot as plt\n",
        "import cv2\n",
        "import glob\n",
        "import os\n",
        "\n",
        "print(tf.__version__)"
      ]
    },
    {
      "cell_type": "markdown",
      "source": [
        "**EJERCICIO 1**"
      ],
      "metadata": {
        "id": "p3A_yy0tFlVP"
      }
    },
    {
      "cell_type": "markdown",
      "source": [
        "En esta primera parte se probara el dataset generado por nosotros.  Aquí el dataset se divide en 80% para entrenamiento y 20% para prueba."
      ],
      "metadata": {
        "id": "XN6J1YTjFyoc"
      }
    },
    {
      "cell_type": "markdown",
      "metadata": {
        "id": "uQ42BNrQ3hi6"
      },
      "source": [
        "**Cargar Dataset Equipo**"
      ]
    },
    {
      "cell_type": "markdown",
      "source": [
        "Una vez importadas las librerias a utilizar, cargaremos nuesto set de datos. Importamos las imagenes desde google drive"
      ],
      "metadata": {
        "id": "D8PgNUJ5-2fE"
      }
    },
    {
      "cell_type": "markdown",
      "source": [
        "El primer paso es crear dos listas, en la primera se guardaran las imagenes y en la segunda las etiquetas.\n",
        "\n",
        "# **Esta celda solo se debe ejecutar una vez, ya que puede eliminar los elementos almacenados en ella previamene **"
      ],
      "metadata": {
        "id": "IzItcq-4BwpV"
      }
    },
    {
      "cell_type": "code",
      "execution_count": 15,
      "metadata": {
        "id": "OBXr7xlsJXLL"
      },
      "outputs": [],
      "source": [
        "# Dataset de equipo\n",
        "ds_team=[]\n",
        "ds_team_labels=[]"
      ]
    },
    {
      "cell_type": "markdown",
      "source": [
        "En el elemento x se copia la ruta donde está guardada la imagen."
      ],
      "metadata": {
        "id": "xd8-Fyc0CxZJ"
      }
    },
    {
      "cell_type": "code",
      "execution_count": 473,
      "metadata": {
        "id": "XhO0E_mxFx1D"
      },
      "outputs": [],
      "source": [
        "# Cargar imagen\n",
        "x = \"/content/drive/MyDrive/Numeros/97.png\"\n",
        "mytest_images=cv2.imread(x, cv2.IMREAD_GRAYSCALE)"
      ]
    },
    {
      "cell_type": "code",
      "execution_count": 474,
      "metadata": {
        "colab": {
          "base_uri": "https://localhost:8080/",
          "height": 452
        },
        "id": "nS8G7QeRGeNz",
        "outputId": "0c7909c5-82a1-42bc-c480-87ac212e91e1"
      },
      "outputs": [
        {
          "output_type": "execute_result",
          "data": {
            "text/plain": [
              "<matplotlib.image.AxesImage at 0x7f55c6963040>"
            ]
          },
          "metadata": {},
          "execution_count": 474
        },
        {
          "output_type": "display_data",
          "data": {
            "text/plain": [
              "<Figure size 640x480 with 1 Axes>"
            ],
            "image/png": "[encoded data removed]"
          },
          "metadata": {}
        }
      ],
      "source": [
        "# Vista previa\n",
        "plt.imshow(mytest_images,cmap=\"gray\")"
      ]
    },
    {
      "cell_type": "markdown",
      "source": [
        "Una vez importadas las imagenes se redimensionan a 28x28 pixeles y se invierten los colores."
      ],
      "metadata": {
        "id": "X-tWRk7G_655"
      }
    },
    {
      "cell_type": "code",
      "execution_count": 475,
      "metadata": {
        "colab": {
          "base_uri": "https://localhost:8080/",
          "height": 447
        },
        "id": "oAx4SIG8H0vB",
        "outputId": "48344ff3-3ef0-4393-9085-783251dc7bc1"
      },
      "outputs": [
        {
          "output_type": "execute_result",
          "data": {
            "text/plain": [
              "<matplotlib.image.AxesImage at 0x7f55c68e0700>"
            ]
          },
          "metadata": {},
          "execution_count": 475
        },
        {
          "output_type": "display_data",
          "data": {
            "text/plain": [
              "<Figure size 640x480 with 1 Axes>"
            ],
            "image/png": "[encoded data removed]"
          },
          "metadata": {}
        }
      ],
      "source": [
        "# Formato para imagen\n",
        "img_resized = cv2.resize(mytest_images,(28,28),interpolation=cv2.INTER_LINEAR)\n",
        "img_resized = cv2.bitwise_not(img_resized)\n",
        "\n",
        "# Vista \n",
        "plt.imshow(img_resized,cmap='gray')"
      ]
    },
    {
      "cell_type": "code",
      "execution_count": 478,
      "metadata": {
        "id": "CmrRkHvFJxwH"
      },
      "outputs": [],
      "source": [
        "# En ds_team_labels.append(\"_\") se debera colocar la etiqueta con la que se desea guardar la imagen\n",
        "ds_team.append(img_resized)\n",
        "ds_team_labels.append(\"9\")"
      ]
    },
    {
      "cell_type": "code",
      "execution_count": 479,
      "metadata": {
        "colab": {
          "base_uri": "https://localhost:8080/"
        },
        "id": "B9mM7HuFKA7m",
        "outputId": "0027d433-b0fd-436c-c9d4-ad1334cf868d"
      },
      "outputs": [
        {
          "output_type": "execute_result",
          "data": {
            "text/plain": [
              "100"
            ]
          },
          "metadata": {},
          "execution_count": 479
        }
      ],
      "source": [
        "# Cantidad de imagenes en dataset\n",
        "len(ds_team)"
      ]
    },
    {
      "cell_type": "code",
      "execution_count": 480,
      "metadata": {
        "colab": {
          "base_uri": "https://localhost:8080/",
          "height": 35
        },
        "id": "8t3uKjcCKUu4",
        "outputId": "ec6f6c39-5ea1-4215-9f1e-9b4090b86ca5"
      },
      "outputs": [
        {
          "output_type": "execute_result",
          "data": {
            "text/plain": [
              "'9'"
            ],
            "application/vnd.google.colaboratory.intrinsic+json": {
              "type": "string"
            }
          },
          "metadata": {},
          "execution_count": 480
        }
      ],
      "source": [
        "# Etiqueta de la última imagen guardada\n",
        "ds_team_labels[-1]"
      ]
    },
    {
      "cell_type": "markdown",
      "source": [
        "Una vez cargado nuestro dataset compuesto por 400 imagenes. Se divide la lista en dos. Ya que el 70% (380) será utilizada como train_images y el 30% (120) restante como test_images."
      ],
      "metadata": {
        "id": "hWH0HWl_FxEK"
      }
    },
    {
      "cell_type": "code",
      "source": [
        "from numpy.ma.core import indices\n",
        "longitud=len(ds_team)\n",
        "num_primera_parte = int(longitud*0.7)\n",
        "indices= list(range(longitud))"
      ],
      "metadata": {
        "id": "Q7wZz_kcHIW1"
      },
      "execution_count": 492,
      "outputs": []
    },
    {
      "cell_type": "markdown",
      "source": [
        "Crea las dos listas de imagenes"
      ],
      "metadata": {
        "id": "QdEDPnQhco2J"
      }
    },
    {
      "cell_type": "code",
      "source": [
        "MyTrain_images = [ds_team[i] for i in indices[:num_primera_parte]]\n",
        "MyTest_images = [ds_team[i] for i in indices[num_primera_parte:]]"
      ],
      "metadata": {
        "id": "W9X2SDxCbSlS"
      },
      "execution_count": 493,
      "outputs": []
    },
    {
      "cell_type": "code",
      "source": [
        "print(\"MyTrain_images:\")\n",
        "for imagen in MyTrain_images:\n",
        "  display(imagen)\n",
        "print(\"MyTest_images:\")\n",
        "for imagen in MyTest_images:\n",
        "  display(imagen)"
      ],
      "metadata": {
        "id": "K-OEx6zYc1VC"
      },
      "execution_count": null,
      "outputs": []
    },
    {
      "cell_type": "markdown",
      "source": [
        "**Pre-Procese el set de datos**"
      ],
      "metadata": {
        "id": "WTwVkGf2GfmI"
      }
    },
    {
      "cell_type": "markdown",
      "source": [
        "El set de datos debe ser pre-procesado antes de entrenar la red. Si usted inspecciona la primera imagen en el set de entrenamiento va a encontrar que los valores de los pixeles estan entre 0 y 255."
      ],
      "metadata": {
        "id": "JdmUm9fEGlWK"
      }
    },
    {
      "cell_type": "code",
      "source": [
        "plt.figure()\n",
        "plt.imshow(ds_team[83])\n",
        "plt.colorbar()\n",
        "plt.grid(False)\n",
        "plt.show()"
      ],
      "metadata": {
        "colab": {
          "base_uri": "https://localhost:8080/",
          "height": 430
        },
        "id": "r8BOKzO7GtHJ",
        "outputId": "7003af85-1fa5-4091-ad29-5de0c0652daa"
      },
      "execution_count": 503,
      "outputs": [
        {
          "output_type": "display_data",
          "data": {
            "text/plain": [
              "<Figure size 640x480 with 2 Axes>"
            ],
            "image/png": "[encoded data removed]"
          },
          "metadata": {}
        }
      ]
    },
    {
      "cell_type": "markdown",
      "source": [
        "Escale estos valores en un rango de 0 a 1 antes de alimentarlos al modelo de la red neuronal. Para hacerlo, divida los valores por 255. Es importante que el training set y el testing set se pre-procesen de la misma forma:"
      ],
      "metadata": {
        "id": "kUYIkFQ2KXDp"
      }
    },
    {
      "cell_type": "code",
      "source": [
        "datos = np.array(MyTrain_images)/255.0\n",
        "datos1 = np.array(MyTest_images)/255.0"
      ],
      "metadata": {
        "id": "gEeFY4qXKXS7"
      },
      "execution_count": 504,
      "outputs": []
    },
    {
      "cell_type": "markdown",
      "source": [
        "Para verificar que el set de datos esta en el formato adecuado y que estan listos para construir y entrenar la red, vamos a desplegar las primeras 25 imagenes de el training set y despleguemos el nombre de cada clase debajo de cada imagen."
      ],
      "metadata": {
        "id": "yss-rOULjy7B"
      }
    },
    {
      "cell_type": "code",
      "source": [
        "class_names = ['CERO', 'UNO','DOS','TRES','CUATRO','CINCO','SEIS','SIETE','OCHO','NUEVE']"
      ],
      "metadata": {
        "id": "ObL6peHRkVhO"
      },
      "execution_count": 509,
      "outputs": []
    },
    {
      "cell_type": "code",
      "source": [
        "plt.figure(figsize=(10,10))\n",
        "for i in range(25):\n",
        "    plt.subplot(5,5,i+1)\n",
        "    plt.xticks([])\n",
        "    plt.yticks([])\n",
        "    plt.grid(False)\n",
        "    plt.imshow(datos[i], cmap=plt.cm.binary)\n",
        "plt.show()"
      ],
      "metadata": {
        "colab": {
          "base_uri": "https://localhost:8080/",
          "height": 807
        },
        "id": "ryidOy5qjzyT",
        "outputId": "e91096bd-73cb-480b-dd1d-695f731636e8"
      },
      "execution_count": 513,
      "outputs": [
        {
          "output_type": "display_data",
          "data": {
            "text/plain": [
              "<Figure size 1000x1000 with 25 Axes>"
            ],
            "image/png": "[encoded data removed]"
          },
          "metadata": {}
        }
      ]
    },
    {
      "cell_type": "markdown",
      "source": [
        "**Construir modelo**"
      ],
      "metadata": {
        "id": "K8wPP0NBlUni"
      }
    },
    {
      "cell_type": "code",
      "source": [
        "model = keras.Sequential([\n",
        "    keras.layers.Flatten(input_shape=(28,28)),\n",
        "    keras.layers.Dense(128, activation='relu'),\n",
        "    keras.layers.Dense(10,activation='softmax')\n",
        "])"
      ],
      "metadata": {
        "id": "SuFmTHQNlT3i"
      },
      "execution_count": 514,
      "outputs": []
    },
    {
      "cell_type": "code",
      "source": [
        "model.compile(optimizer='adam',\n",
        "              loss='sparse_categorical_crossentropy',\n",
        "              metrics=['accuracy'])"
      ],
      "metadata": {
        "id": "SNjupD22lLX7"
      },
      "execution_count": 515,
      "outputs": []
    },
    {
      "cell_type": "code",
      "source": [
        "model.fit(datos,ds_team_labels, epochs=10)"
      ],
      "metadata": {
        "colab": {
          "base_uri": "https://localhost:8080/",
          "height": 311
        },
        "id": "lrmyuCOmlk_C",
        "outputId": "cdae0132-8b39-4f8f-adfe-9c70fa028a6d"
      },
      "execution_count": 519,
      "outputs": [
        {
          "output_type": "error",
          "ename": "ValueError",
          "evalue": "ignored",
          "traceback": [
            "\u001b[0;31m---------------------------------------------------------------------------\u001b[0m",
            "\u001b[0;31mValueError\u001b[0m                                Traceback (most recent call last)",
            "\u001b[0;32m<ipython-input-519-f88019e126d4>\u001b[0m in \u001b[0;36m<cell line: 1>\u001b[0;34m()\u001b[0m\n\u001b[0;32m----> 1\u001b[0;31m \u001b[0mmodel\u001b[0m\u001b[0;34m.\u001b[0m\u001b[0mfit\u001b[0m\u001b[0;34m(\u001b[0m\u001b[0mdatos\u001b[0m\u001b[0;34m,\u001b[0m\u001b[0mds_team_labels\u001b[0m\u001b[0;34m,\u001b[0m \u001b[0mepochs\u001b[0m\u001b[0;34m=\u001b[0m\u001b[0;36m10\u001b[0m\u001b[0;34m)\u001b[0m\u001b[0;34m\u001b[0m\u001b[0;34m\u001b[0m\u001b[0m\n\u001b[0m",
            "\u001b[0;32m/usr/local/lib/python3.9/dist-packages/keras/utils/traceback_utils.py\u001b[0m in \u001b[0;36merror_handler\u001b[0;34m(*args, **kwargs)\u001b[0m\n\u001b[1;32m     68\u001b[0m             \u001b[0;31m# To get the full stack trace, call:\u001b[0m\u001b[0;34m\u001b[0m\u001b[0;34m\u001b[0m\u001b[0m\n\u001b[1;32m     69\u001b[0m             \u001b[0;31m# `tf.debugging.disable_traceback_filtering()`\u001b[0m\u001b[0;34m\u001b[0m\u001b[0;34m\u001b[0m\u001b[0m\n\u001b[0;32m---> 70\u001b[0;31m             \u001b[0;32mraise\u001b[0m \u001b[0me\u001b[0m\u001b[0;34m.\u001b[0m\u001b[0mwith_traceback\u001b[0m\u001b[0;34m(\u001b[0m\u001b[0mfiltered_tb\u001b[0m\u001b[0;34m)\u001b[0m \u001b[0;32mfrom\u001b[0m \u001b[0;32mNone\u001b[0m\u001b[0;34m\u001b[0m\u001b[0;34m\u001b[0m\u001b[0m\n\u001b[0m\u001b[1;32m     71\u001b[0m         \u001b[0;32mfinally\u001b[0m\u001b[0;34m:\u001b[0m\u001b[0;34m\u001b[0m\u001b[0;34m\u001b[0m\u001b[0m\n\u001b[1;32m     72\u001b[0m             \u001b[0;32mdel\u001b[0m \u001b[0mfiltered_tb\u001b[0m\u001b[0;34m\u001b[0m\u001b[0;34m\u001b[0m\u001b[0m\n",
            "\u001b[0;32m/usr/local/lib/python3.9/dist-packages/keras/engine/data_adapter.py\u001b[0m in \u001b[0;36mselect_data_adapter\u001b[0;34m(x, y)\u001b[0m\n\u001b[1;32m   1080\u001b[0m     \u001b[0;32mif\u001b[0m \u001b[0;32mnot\u001b[0m \u001b[0madapter_cls\u001b[0m\u001b[0;34m:\u001b[0m\u001b[0;34m\u001b[0m\u001b[0;34m\u001b[0m\u001b[0m\n\u001b[1;32m   1081\u001b[0m         \u001b[0;31m# TODO(scottzhu): This should be a less implementation-specific error.\u001b[0m\u001b[0;34m\u001b[0m\u001b[0;34m\u001b[0m\u001b[0m\n\u001b[0;32m-> 1082\u001b[0;31m         raise ValueError(\n\u001b[0m\u001b[1;32m   1083\u001b[0m             \"Failed to find data adapter that can handle input: {}, {}\".format(\n\u001b[1;32m   1084\u001b[0m                 \u001b[0m_type_name\u001b[0m\u001b[0;34m(\u001b[0m\u001b[0mx\u001b[0m\u001b[0;34m)\u001b[0m\u001b[0;34m,\u001b[0m \u001b[0m_type_name\u001b[0m\u001b[0;34m(\u001b[0m\u001b[0my\u001b[0m\u001b[0;34m)\u001b[0m\u001b[0;34m\u001b[0m\u001b[0;34m\u001b[0m\u001b[0m\n",
            "\u001b[0;31mValueError\u001b[0m: Failed to find data adapter that can handle input: <class 'numpy.ndarray'>, (<class 'list'> containing values of types {\"<class 'str'>\"})"
          ]
        }
      ]
    },
    {
      "cell_type": "markdown",
      "metadata": {
        "id": "ZhmX7kEjUtZw"
      },
      "source": [
        "**Cargar conjunto de datos MNIST**"
      ]
    },
    {
      "cell_type": "code",
      "execution_count": null,
      "metadata": {
        "id": "Kw5h113tUywh",
        "colab": {
          "base_uri": "https://localhost:8080/"
        },
        "outputId": "97b4cff8-8f2e-46d2-8acd-1d7a6ba11f1c"
      },
      "outputs": [
        {
          "output_type": "stream",
          "name": "stdout",
          "text": [
            "Downloading data from https://storage.googleapis.com/tensorflow/tf-keras-datasets/mnist.npz\n",
            "11490434/11490434 [==============================] - 0s 0us/step\n"
          ]
        }
      ],
      "source": [
        "digits_mnist = keras.datasets.mnist\n",
        "\n",
        "(train_images, train_labels), (test_images, test_labels)=digits_mnist.load_data()"
      ]
    },
    {
      "cell_type": "markdown",
      "metadata": {
        "id": "qLZUpPuAXZuL"
      },
      "source": [
        "Cada imagen es mapeada a una unica etiqueta. Ya que los Class names no están incluidos en  el dataset, alacenelo aca para usarlos luego cuando se visualicen las imagenes:"
      ]
    },
    {
      "cell_type": "code",
      "execution_count": null,
      "metadata": {
        "id": "oBE4SjkwXo58"
      },
      "outputs": [],
      "source": [
        "class_names = ['CERO', 'UNO','DOS','TRES','CUATRO','CINCO','SEIS','SIETE','OCHO','NUEVE']"
      ]
    },
    {
      "cell_type": "markdown",
      "metadata": {
        "id": "dHoFlu7AWRsw"
      },
      "source": [
        "**Explore el set de datos**"
      ]
    },
    {
      "cell_type": "markdown",
      "metadata": {
        "id": "NuSCM-sdWYKZ"
      },
      "source": [
        "Explore el formato del set de datos antes de entrenar el modelo. Lo siguiente muestra que hay 60,000 imagenes en el set de entrenamiento, con cada imagen representada por pixeles de 28x28:"
      ]
    },
    {
      "cell_type": "code",
      "execution_count": null,
      "metadata": {
        "colab": {
          "base_uri": "https://localhost:8080/"
        },
        "id": "WdXcaFF_WVq0",
        "outputId": "3683e4b2-cce9-421b-9b2b-84a15ccbdd29"
      },
      "outputs": [
        {
          "output_type": "execute_result",
          "data": {
            "text/plain": [
              "(60000, 28, 28)"
            ]
          },
          "metadata": {},
          "execution_count": 113
        }
      ],
      "source": [
        "train_images.shape"
      ]
    },
    {
      "cell_type": "markdown",
      "metadata": {
        "id": "M37YpHj9W0WX"
      },
      "source": [
        "Asimismo, hay 60,000 etiquetas en el set de entrenamiento:"
      ]
    },
    {
      "cell_type": "code",
      "execution_count": null,
      "metadata": {
        "colab": {
          "base_uri": "https://localhost:8080/"
        },
        "id": "0nDhdECuW6_-",
        "outputId": "61384095-7b6d-43ab-96cb-6e46f60270e2"
      },
      "outputs": [
        {
          "output_type": "execute_result",
          "data": {
            "text/plain": [
              "60000"
            ]
          },
          "metadata": {},
          "execution_count": 114
        }
      ],
      "source": [
        "len(train_labels)"
      ]
    },
    {
      "cell_type": "markdown",
      "metadata": {
        "id": "uBWMpGFKXARz"
      },
      "source": [
        "Cada etiqueta es un int entre 0 y 9:"
      ]
    },
    {
      "cell_type": "code",
      "execution_count": null,
      "metadata": {
        "colab": {
          "base_uri": "https://localhost:8080/"
        },
        "id": "Y-fA8q-RXGDF",
        "outputId": "b56f5a6d-71ed-402d-b8bb-9ea4df1103d8"
      },
      "outputs": [
        {
          "output_type": "execute_result",
          "data": {
            "text/plain": [
              "array([5, 0, 4, ..., 5, 6, 8], dtype=uint8)"
            ]
          },
          "metadata": {},
          "execution_count": 115
        }
      ],
      "source": [
        "train_labels"
      ]
    },
    {
      "cell_type": "markdown",
      "metadata": {
        "id": "e5rFrEAeYlpu"
      },
      "source": [
        "Hay 10,000 imagenes en el set de pruebas. Otra vez, cada imagen es representada como pixeles de 28x28:"
      ]
    },
    {
      "cell_type": "code",
      "execution_count": null,
      "metadata": {
        "colab": {
          "base_uri": "https://localhost:8080/"
        },
        "id": "cKMHZwfjYzRA",
        "outputId": "ad8480e2-e39b-4bc1-9242-aacd68346ee8"
      },
      "outputs": [
        {
          "output_type": "execute_result",
          "data": {
            "text/plain": [
              "(10000, 28, 28)"
            ]
          },
          "metadata": {},
          "execution_count": 116
        }
      ],
      "source": [
        "test_images.shape"
      ]
    },
    {
      "cell_type": "markdown",
      "metadata": {
        "id": "s7OfHulIY_WG"
      },
      "source": [
        "Y el set de pruebas contiene 10,000 etiquetas de imagen:"
      ]
    },
    {
      "cell_type": "code",
      "execution_count": null,
      "metadata": {
        "colab": {
          "base_uri": "https://localhost:8080/"
        },
        "id": "U_3H-iBZZE_e",
        "outputId": "a55b48cd-915c-4d9f-872e-fd9b612e5f0b"
      },
      "outputs": [
        {
          "output_type": "execute_result",
          "data": {
            "text/plain": [
              "10000"
            ]
          },
          "metadata": {},
          "execution_count": 117
        }
      ],
      "source": [
        "len(test_labels)"
      ]
    },
    {
      "cell_type": "markdown",
      "metadata": {
        "id": "_ex4P6VVZMSn"
      },
      "source": [
        "**Pre-Procese el set de datos**"
      ]
    },
    {
      "cell_type": "markdown",
      "metadata": {
        "id": "3PCZro1fZcBv"
      },
      "source": [
        "El set de datos debe ser pre-procesado antes de entrenar la red. Si usted inspecciona la primera imagen en el set de entrenamiento va a encontrar que los valores de los pixeles estan entre 0 y 255"
      ]
    },
    {
      "cell_type": "code",
      "execution_count": null,
      "metadata": {
        "colab": {
          "base_uri": "https://localhost:8080/",
          "height": 265
        },
        "id": "I2YRH7zIZZ5C",
        "outputId": "2e142f27-16b8-4e04-bc62-324de3819ab0"
      },
      "outputs": [
        {
          "output_type": "display_data",
          "data": {
            "text/plain": [
              "<Figure size 432x288 with 2 Axes>"
            ],
            "image/png": "[encoded data removed]"
          },
          "metadata": {
            "needs_background": "light"
          }
        }
      ],
      "source": [
        "plt.figure()\n",
        "plt.imshow(train_images[-1])\n",
        "plt.colorbar()\n",
        "plt.grid(False)\n",
        "plt.show()"
      ]
    },
    {
      "cell_type": "markdown",
      "metadata": {
        "id": "x8fYBxQij_yC"
      },
      "source": [
        "Escale estos valores en un rango de 0 a 1 antes de alimentarlos al modelo de la red neuronal. Para hacerlo, divida los valores por 255. Es importante que el training set y el testing set se pre-procesen de la misma forma:"
      ]
    },
    {
      "cell_type": "code",
      "execution_count": null,
      "metadata": {
        "id": "wNkZ8kPdyQkw"
      },
      "outputs": [],
      "source": [
        "train_images=train_images/255.0\n",
        "\n",
        "test_images=test_images/255.0"
      ]
    },
    {
      "cell_type": "markdown",
      "metadata": {
        "id": "F2ki3iq-ywyP"
      },
      "source": [
        "Para verificar que el set de datos esta en el formato adecuado y que estan listos para construir y entrenar la red, vamos a desplegar las primeras 25 imagenes de el training set y despleguemos el nombre de cada clase debajo de cada imagen."
      ]
    },
    {
      "cell_type": "code",
      "execution_count": null,
      "metadata": {
        "colab": {
          "base_uri": "https://localhost:8080/",
          "height": 589
        },
        "id": "EYiG2q4QzN8t",
        "outputId": "8e76db54-b71b-43c1-b38c-d81c49506696"
      },
      "outputs": [
        {
          "data": {
            "image/png": "[encoded data removed]",
            "text/plain": [
              "<Figure size 720x720 with 25 Axes>"
            ]
          },
          "metadata": {},
          "output_type": "display_data"
        }
      ],
      "source": [
        "plt.figure(figsize=(10,10))\n",
        "for i in range(25):\n",
        "  plt.subplot(5,5,i+1)\n",
        "  plt.xticks([])\n",
        "  plt.yticks([])\n",
        "  plt.grid(False)\n",
        "  plt.imshow(train_images[i],cmap=plt.cm.binary)\n",
        "  plt.xlabel(class_names[train_labels[i]])\n",
        "plt.show()"
      ]
    },
    {
      "cell_type": "markdown",
      "metadata": {
        "id": "VYNZ173D1aHe"
      },
      "source": [
        "**Construir modelo**"
      ]
    },
    {
      "cell_type": "markdown",
      "metadata": {
        "id": "u9t6Jbl21fjb"
      },
      "source": [
        "Construir la red neuronal requiere configurar las capas del modelo y luego compilar el modelo."
      ]
    },
    {
      "cell_type": "markdown",
      "metadata": {
        "id": "HeJOF7wJ1qii"
      },
      "source": [
        "**Configurar las capas**"
      ]
    },
    {
      "cell_type": "markdown",
      "metadata": {
        "id": "QdG5wOCh1uqF"
      },
      "source": [
        "Los bloques de construcción basicos de una red neuronal son las capas o layers. Las capas extraen representaciones de el set de datos que se les alimentan. Con suerte, estas representaciones son cosiderables para el problema que estamos solucionando.\n",
        "\n",
        "La mayoria de aprednizaje profundo consiste de unir capas sencillas. La mayoria de las capas como tf.keras.layers.Dense, tienen parametros que son aprendidos durante el entrenamiento."
      ]
    },
    {
      "cell_type": "code",
      "execution_count": null,
      "metadata": {
        "id": "DOKkQ38x2QJL"
      },
      "outputs": [],
      "source": [
        "model = keras.Sequential([\n",
        "    keras.layers.Flatten(input_shape=(28,28)),\n",
        "    keras.layers.Dense(128, activation='relu'),\n",
        "    keras.layers.Dense(10,activation='softmax')\n",
        "])"
      ]
    },
    {
      "cell_type": "markdown",
      "metadata": {
        "id": "GGOUUVME3MTW"
      },
      "source": [
        "La primera capa de esta red, tf.keras.layers.Flatten, transforma el formato de las imagenes de un arreglo bi-dimensional (de 28 por 28 pixeles) a un arrelo uni dimensional (de 28*28 pixeles = 784 pixeles), observe esta capa como una capa no apilada de filas de pixeles en la misma imagen y alineandolo. Esta capa no tiene parametros que aprenderm solo reformatea el set de datos.\n",
        "\n",
        "Despues de que los pixeles esten \"aplanados\", la secuencia consiste de dos capas tf.keras.layers.Dense. Estas estan densamente conectadas, o completamente conectadas. La primera capa Dense tiene 128 nodos (o neuronas). La segunda (y ultima) capa es una capa de 10 nodos softmax que devuelve un arreglo de 10 posibilidades que suman a 1. Cada nodo contiene una calificación que indica la probabilidad que la actual imagen pertenece a una de las 10 clases."
      ]
    },
    {
      "cell_type": "markdown",
      "metadata": {
        "id": "BsJiYFT04hB8"
      },
      "source": [
        "**Compile el modelo**"
      ]
    },
    {
      "cell_type": "markdown",
      "metadata": {
        "id": "4np6hwO55AdL"
      },
      "source": [
        "Antes de que el modelo este listo para entrenar, se necesitan algunas configuraciones mas. Estas son agregadas durante el paso de compilacion del modelo:\n",
        "\n",
        "Loss function - Esto mide que tan exacto es el modelo durante el entrenamiento. Quiere minimizar esta funcion para dirigir el modelo en la dirección adecuada.\n",
        "\n",
        "Optimizer - Esto es como el modelo se actualiza basado en el set de datos que ve y la funcion de perdida.\n",
        "\n",
        "Metrics - Se usan para monitorear los pasos de entrenamiento y de pruebas. El siguiente ejemplo usa accuracy (exactitud), la fracción de la imagenes que son correctamente clasificadas."
      ]
    },
    {
      "cell_type": "code",
      "execution_count": null,
      "metadata": {
        "id": "4gGYTODc7CCx"
      },
      "outputs": [],
      "source": [
        "model.compile(optimizer='adam',\n",
        "              loss='sparse_categorical_crossentropy',\n",
        "              metrics=['accuracy'])"
      ]
    },
    {
      "cell_type": "markdown",
      "metadata": {
        "id": "YxjHN-Sy7rGr"
      },
      "source": [
        "**Entrenar el modelo**"
      ]
    },
    {
      "cell_type": "markdown",
      "metadata": {
        "id": "8rVos9vs7ukh"
      },
      "source": [
        "Entrenar el modelo de red neuronal requiere de los siguientes pasos: \n",
        "\n",
        "1. Entregue los datos de entrenamiento al modelo. En este ejemplo, el set de \n",
        "  de datos de entrenamiento estan en los arreglos train_images y train_labes.\n",
        "2. El modelo aprende a asociar imagenes y etiquetas.\n",
        "3. Usted le pregunta al modelo que haga predicciones sobre un set de datos que \n",
        "  se encuentran en el ejemplo, incluido en el arreglo test_images. Verifique que las preducciones sean iguales a las etiquetas de el arreglo test_labels.\n",
        "\n"
      ]
    },
    {
      "cell_type": "markdown",
      "metadata": {
        "id": "Ffqgp6kE8yXK"
      },
      "source": [
        "Para comenzar a entrenar, llame el metodo model.fit, es llamado asi por que fin (ajusta) el modelo a el set de datos de entrenamiento:"
      ]
    },
    {
      "cell_type": "code",
      "execution_count": null,
      "metadata": {
        "colab": {
          "base_uri": "https://localhost:8080/"
        },
        "id": "11Zmmoi-9Yz2",
        "outputId": "2758586e-671e-4d22-e6fe-119fd321a578"
      },
      "outputs": [
        {
          "name": "stdout",
          "output_type": "stream",
          "text": [
            "Epoch 1/10\n",
            "1875/1875 [==============================] - 11s 5ms/step - loss: 0.2617 - accuracy: 0.9253\n",
            "Epoch 2/10\n",
            "1875/1875 [==============================] - 10s 5ms/step - loss: 0.1165 - accuracy: 0.9651\n",
            "Epoch 3/10\n",
            "1875/1875 [==============================] - 8s 4ms/step - loss: 0.0806 - accuracy: 0.9758\n",
            "Epoch 4/10\n",
            "1875/1875 [==============================] - 10s 5ms/step - loss: 0.0606 - accuracy: 0.9813\n",
            "Epoch 5/10\n",
            "1875/1875 [==============================] - 9s 5ms/step - loss: 0.0465 - accuracy: 0.9858\n",
            "Epoch 6/10\n",
            "1875/1875 [==============================] - 9s 5ms/step - loss: 0.0373 - accuracy: 0.9882\n",
            "Epoch 7/10\n",
            "1875/1875 [==============================] - 11s 6ms/step - loss: 0.0290 - accuracy: 0.9910\n",
            "Epoch 8/10\n",
            "1875/1875 [==============================] - 7s 4ms/step - loss: 0.0240 - accuracy: 0.9924\n",
            "Epoch 9/10\n",
            "1875/1875 [==============================] - 9s 5ms/step - loss: 0.0190 - accuracy: 0.9943\n",
            "Epoch 10/10\n",
            "1875/1875 [==============================] - 9s 5ms/step - loss: 0.0162 - accuracy: 0.9950\n"
          ]
        },
        {
          "data": {
            "text/plain": [
              "<keras.callbacks.History at 0x7f28abeb7550>"
            ]
          },
          "execution_count": 16,
          "metadata": {},
          "output_type": "execute_result"
        }
      ],
      "source": [
        "model.fit(train_images,train_labels, epochs=10)"
      ]
    },
    {
      "cell_type": "markdown",
      "metadata": {
        "id": "Rtz1L8GG-h2H"
      },
      "source": [
        "A medida que el modelo entrena, la perdida y la exactitud son desplegadas. Este modelo alcanza una exactitud de 0.88 sobre el set de datos de entrenamiento."
      ]
    },
    {
      "cell_type": "markdown",
      "metadata": {
        "id": "jxY5-j7H-wkM"
      },
      "source": [
        "**Evaluar exactitud**"
      ]
    },
    {
      "cell_type": "markdown",
      "metadata": {
        "id": "J6hlASEX-0Zy"
      },
      "source": [
        "Siguiente, compare como el rendimiento del modelo sobre el set de datos:"
      ]
    },
    {
      "cell_type": "code",
      "execution_count": null,
      "metadata": {
        "colab": {
          "base_uri": "https://localhost:8080/"
        },
        "id": "vnjH0-6--70w",
        "outputId": "bc1da068-aa85-4fff-c09e-5d02b02c6b79"
      },
      "outputs": [
        {
          "name": "stdout",
          "output_type": "stream",
          "text": [
            "313/313 - 1s - loss: 0.0832 - accuracy: 0.9771 - 674ms/epoch - 2ms/step\n",
            "\n",
            "Test accuracy: 0.9771000146865845\n"
          ]
        }
      ],
      "source": [
        "test_loss, test_acc = model.evaluate(test_images, test_labels, verbose=2)\n",
        "\n",
        "print('\\nTest accuracy:',test_acc)"
      ]
    },
    {
      "cell_type": "markdown",
      "metadata": {
        "id": "xF82lPlI_oFP"
      },
      "source": [
        "**Hacer predicciones**"
      ]
    },
    {
      "cell_type": "markdown",
      "metadata": {
        "id": "nUY5OZ0j_sL2"
      },
      "source": [
        "Con el modelo entrenado usted puede usarlo para hacer predicciones sobre imagenes."
      ]
    },
    {
      "cell_type": "code",
      "execution_count": null,
      "metadata": {
        "colab": {
          "base_uri": "https://localhost:8080/"
        },
        "id": "oaVrnFxq_0Qm",
        "outputId": "926d56d1-fa6a-42dc-8eed-ff6dbf718d4f"
      },
      "outputs": [
        {
          "name": "stdout",
          "output_type": "stream",
          "text": [
            "313/313 [==============================] - 1s 2ms/step\n"
          ]
        }
      ],
      "source": [
        "predictions = model.predict(test_images)"
      ]
    },
    {
      "cell_type": "markdown",
      "metadata": {
        "id": "_2yoGZ52AB3z"
      },
      "source": [
        "Aca el modelo ha precdecido la etiqueta para cada imagen en el set de datos de test (prueba). Miremos la primera predicción:"
      ]
    },
    {
      "cell_type": "code",
      "execution_count": null,
      "metadata": {
        "colab": {
          "base_uri": "https://localhost:8080/"
        },
        "id": "nJifhpO0KM31",
        "outputId": "fa4ecbd4-b886-4188-b6ed-ec675f25cf9a"
      },
      "outputs": [
        {
          "data": {
            "text/plain": [
              "array([5.2671245e-10, 7.9247664e-10, 9.1819254e-07, 8.0481059e-06,\n",
              "       1.9163809e-15, 2.7091229e-10, 3.8849629e-18, 9.9999064e-01,\n",
              "       2.2856665e-07, 3.0046429e-08], dtype=float32)"
            ]
          },
          "execution_count": 52,
          "metadata": {},
          "output_type": "execute_result"
        }
      ],
      "source": [
        "predictions[0]"
      ]
    },
    {
      "cell_type": "markdown",
      "metadata": {
        "id": "gcsDDhjsMx6m"
      },
      "source": [
        "Una prediccion es un arreglo de 10 numeros. Estos representan el nivel de \"confianza\" del modelo sobre las imagenes de cada uno de los 10 numeros. Ustedes pueden revisar cual tiene el nivel más alto de confianza:"
      ]
    },
    {
      "cell_type": "code",
      "execution_count": null,
      "metadata": {
        "colab": {
          "base_uri": "https://localhost:8080/"
        },
        "id": "u1xjPcaENEqQ",
        "outputId": "29e5386a-a504-44bb-cfa5-aafd333bf453"
      },
      "outputs": [
        {
          "data": {
            "text/plain": [
              "7"
            ]
          },
          "execution_count": 53,
          "metadata": {},
          "output_type": "execute_result"
        }
      ],
      "source": [
        "np.argmax(predictions[0])"
      ]
    },
    {
      "cell_type": "markdown",
      "metadata": {
        "id": "oTY0Duz7NXEQ"
      },
      "source": [
        "Entonces, el modelo tiene mayor confianza que esta imagen es una bota de tobillo \"ankle boot\" o class_names[9]. Examinando las etiquetas de test o de pruebas muestra que esta clasificación es correcta:"
      ]
    },
    {
      "cell_type": "code",
      "execution_count": null,
      "metadata": {
        "colab": {
          "base_uri": "https://localhost:8080/"
        },
        "id": "VktZals5NqYC",
        "outputId": "0056e594-e317-4ef0-b4d9-9a75d62221ea"
      },
      "outputs": [
        {
          "data": {
            "text/plain": [
              "7"
            ]
          },
          "execution_count": 54,
          "metadata": {},
          "output_type": "execute_result"
        }
      ],
      "source": [
        "test_labels[0]"
      ]
    },
    {
      "cell_type": "markdown",
      "metadata": {
        "id": "smYPf6wsUbLj"
      },
      "source": [
        "Grafique esto para poder ver todo el set de la prediccion de las 10 clases."
      ]
    },
    {
      "cell_type": "code",
      "execution_count": null,
      "metadata": {
        "id": "RBmXWRi-jGYl"
      },
      "outputs": [],
      "source": [
        "def plot_image(i, predictions_array, true_label, img):\n",
        "  predictions_array, true_label, img = predictions_array, true_label[i], img[i]\n",
        "  plt.grid(False)\n",
        "  plt.xticks([])\n",
        "  plt.yticks([])\n",
        "\n",
        "  plt.imshow(img, cmap=plt.cm.binary)\n",
        "\n",
        "  predicted_label = np.argmax(predictions_array)\n",
        "  if predicted_label == true_label:\n",
        "    color = 'blue'\n",
        "  else:\n",
        "    color = 'red'\n",
        "\n",
        "  plt.xlabel(\"{} {:2.0f}% ({})\".format(class_names[predicted_label],\n",
        "                                100*np.max(predictions_array),\n",
        "                                class_names[true_label]),\n",
        "                                color=color)\n",
        "\n",
        "def plot_value_array(i, predictions_array, true_label):\n",
        "  predictions_array, true_label = predictions_array, true_label[i]\n",
        "  plt.grid(False)\n",
        "  plt.xticks(range(10))\n",
        "  plt.yticks([])\n",
        "  thisplot = plt.bar(range(10), predictions_array, color=\"#777777\")\n",
        "  plt.ylim([0, 1])\n",
        "  predicted_label = np.argmax(predictions_array)\n",
        "\n",
        "  thisplot[predicted_label].set_color('red')\n",
        "  thisplot[true_label].set_color('blue')"
      ]
    },
    {
      "cell_type": "markdown",
      "metadata": {
        "id": "WHYdw2FJjdfb"
      },
      "source": []
    },
    {
      "cell_type": "code",
      "execution_count": null,
      "metadata": {
        "colab": {
          "base_uri": "https://localhost:8080/",
          "height": 211
        },
        "id": "f1aQvZVAjewE",
        "outputId": "d5cabec5-2662-4a48-ed37-e44b099fed2a"
      },
      "outputs": [
        {
          "data": {
            "image/png": "[encoded data removed]",
            "text/plain": [
              "<Figure size 432x216 with 2 Axes>"
            ]
          },
          "metadata": {},
          "output_type": "display_data"
        }
      ],
      "source": [
        "i = 0\n",
        "plt.figure(figsize=(6,3))\n",
        "plt.subplot(1,2,1)\n",
        "plot_image(i, predictions[i], test_labels, test_images)\n",
        "plt.subplot(1,2,2)\n",
        "plot_value_array(i, predictions[i],  test_labels)\n",
        "plt.show()"
      ]
    },
    {
      "cell_type": "code",
      "execution_count": null,
      "metadata": {
        "colab": {
          "base_uri": "https://localhost:8080/",
          "height": 211
        },
        "id": "OLkFSat9jssA",
        "outputId": "e6ea6a0e-b72d-4f91-d120-de9ad68f3e1e"
      },
      "outputs": [
        {
          "data": {
            "image/png": "[encoded data removed]",
            "text/plain": [
              "<Figure size 432x216 with 2 Axes>"
            ]
          },
          "metadata": {},
          "output_type": "display_data"
        }
      ],
      "source": [
        "i = 12\n",
        "plt.figure(figsize=(6,3))\n",
        "plt.subplot(1,2,1)\n",
        "plot_image(i, predictions[i], test_labels, test_images)\n",
        "plt.subplot(1,2,2)\n",
        "plot_value_array(i, predictions[i],  test_labels)\n",
        "plt.show()"
      ]
    },
    {
      "cell_type": "markdown",
      "metadata": {
        "id": "7k3YsY5jjxG0"
      },
      "source": []
    },
    {
      "cell_type": "code",
      "execution_count": null,
      "metadata": {
        "colab": {
          "base_uri": "https://localhost:8080/",
          "height": 729
        },
        "id": "aR7Krx0mjxko",
        "outputId": "d58e828a-af3a-42ff-9ba0-b7c96a9d0260"
      },
      "outputs": [
        {
          "data": {
            "image/png": "[encoded data removed]",
            "text/plain": [
              "<Figure size 864x720 with 30 Axes>"
            ]
          },
          "metadata": {},
          "output_type": "display_data"
        }
      ],
      "source": [
        "# Plot the first X test images, their predicted labels, and the true labels.\n",
        "# Color correct predictions in blue and incorrect predictions in red.\n",
        "num_rows = 5\n",
        "num_cols = 3\n",
        "num_images = num_rows*num_cols\n",
        "plt.figure(figsize=(2*2*num_cols, 2*num_rows))\n",
        "for i in range(num_images):\n",
        "  plt.subplot(num_rows, 2*num_cols, 2*i+1)\n",
        "  plot_image(i, predictions[i], test_labels, test_images)\n",
        "  plt.subplot(num_rows, 2*num_cols, 2*i+2)\n",
        "  plot_value_array(i, predictions[i], test_labels)\n",
        "plt.tight_layout()\n",
        "plt.show()"
      ]
    },
    {
      "cell_type": "markdown",
      "metadata": {
        "id": "085UAI3SkKux"
      },
      "source": []
    },
    {
      "cell_type": "code",
      "execution_count": null,
      "metadata": {
        "colab": {
          "base_uri": "https://localhost:8080/"
        },
        "id": "YPTT82RYkLHp",
        "outputId": "7ceb0fe0-aa63-4703-858c-53d7f8b5e17b"
      },
      "outputs": [
        {
          "name": "stdout",
          "output_type": "stream",
          "text": [
            "(28, 28)\n"
          ]
        }
      ],
      "source": [
        "# Grab an image from the test dataset.\n",
        "img = test_images[1]\n",
        "\n",
        "print(img.shape)"
      ]
    },
    {
      "cell_type": "markdown",
      "metadata": {
        "id": "gvhUjV4LkO9A"
      },
      "source": []
    }
  ],
  "metadata": {
    "colab": {
      "provenance": [],
      "mount_file_id": "1vT0PMV667ACtC2weHCGWJjgbNw53NKCd",
      "authorship_tag": "ABX9TyN1jqcmwMnAPV5t3Cv1SrsP",
      "include_colab_link": true
    },
    "kernelspec": {
      "display_name": "Python 3",
      "name": "python3"
    },
    "language_info": {
      "name": "python"
    }
  },
  "nbformat": 4,
  "nbformat_minor": 0
}