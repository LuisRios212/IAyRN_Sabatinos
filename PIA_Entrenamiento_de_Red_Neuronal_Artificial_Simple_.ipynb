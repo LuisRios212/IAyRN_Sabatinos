{
  "cells": [
    {
      "cell_type": "markdown",
      "metadata": {
        "id": "view-in-github",
        "colab_type": "text"
      },
      "source": [
        "<a href=\"https://colab.research.google.com/github/LuisRios212/IAyRN_Sabatinos/blob/main/PIA_Entrenamiento_de_Red_Neuronal_Artificial_Simple_.ipynb\" target=\"_parent\"><img src=\"https://colab.research.google.com/assets/colab-badge.svg\" alt=\"Open In Colab\"/></a>"
      ]
    },
    {
      "cell_type": "markdown",
      "metadata": {
        "id": "xgAVqCodUgvM"
      },
      "source": [
        "**Librerias a utilizar**\n",
        "\n"
      ]
    },
    {
      "cell_type": "code",
      "execution_count": 5,
      "metadata": {
        "colab": {
          "base_uri": "https://localhost:8080/"
        },
        "id": "7H9WmVVVStAt",
        "outputId": "6a10544c-bac8-4781-9fa1-40343c55704e"
      },
      "outputs": [
        {
          "output_type": "stream",
          "name": "stdout",
          "text": [
            "2.12.0\n"
          ]
        }
      ],
      "source": [
        "#TensorFlow y tf.keras\n",
        "import tensorflow as tf\n",
        "from tensorflow import keras\n",
        "\n",
        "#Librerias de ayuda\n",
        "import numpy as np\n",
        "import matplotlib.pyplot as plt\n",
        "import cv2\n",
        "import glob\n",
        "import os\n",
        "\n",
        "print(tf.__version__)"
      ]
    },
    {
      "cell_type": "markdown",
      "source": [
        "**EJERCICIO 1**"
      ],
      "metadata": {
        "id": "p3A_yy0tFlVP"
      }
    },
    {
      "cell_type": "markdown",
      "source": [
        "En esta primera parte se probara el dataset generado por nosotros.  Aquí el dataset se divide en 80% para entrenamiento y 20% para prueba."
      ],
      "metadata": {
        "id": "XN6J1YTjFyoc"
      }
    },
    {
      "cell_type": "markdown",
      "metadata": {
        "id": "uQ42BNrQ3hi6"
      },
      "source": [
        "**Cargar Dataset Equipo**"
      ]
    },
    {
      "cell_type": "markdown",
      "source": [
        "Una vez importadas las librerias a utilizar, cargaremos nuesto set de datos. Importamos las imagenes desde google drive"
      ],
      "metadata": {
        "id": "D8PgNUJ5-2fE"
      }
    },
    {
      "cell_type": "markdown",
      "source": [
        "El primer paso es crear dos listas, en la primera se guardaran las imagenes y en la segunda las etiquetas.\n",
        "\n",
        "# **Esta celda solo se debe ejecutar una vez, ya que puede eliminar los elementos almacenados en ella previamene **"
      ],
      "metadata": {
        "id": "IzItcq-4BwpV"
      }
    },
    {
      "cell_type": "code",
      "execution_count": 11,
      "metadata": {
        "id": "OBXr7xlsJXLL"
      },
      "outputs": [],
      "source": [
        "# Dataset de equipo\n",
        "ds_team=[]\n",
        "ds_team_labels=[]"
      ]
    },
    {
      "cell_type": "markdown",
      "source": [
        "En el elemento x se copia la ruta donde está guardada la imagen."
      ],
      "metadata": {
        "id": "xd8-Fyc0CxZJ"
      }
    },
    {
      "cell_type": "code",
      "execution_count": 10,
      "metadata": {
        "id": "XhO0E_mxFx1D"
      },
      "outputs": [],
      "source": [
        "# Cargar imagen\n",
        "x = \"/content/drive/MyDrive/Numeros/97.png\"\n",
        "mytest_images=cv2.imread(x, cv2.IMREAD_GRAYSCALE)"
      ]
    },
    {
      "cell_type": "code",
      "execution_count": 12,
      "metadata": {
        "colab": {
          "base_uri": "https://localhost:8080/",
          "height": 453
        },
        "id": "nS8G7QeRGeNz",
        "outputId": "9341ee79-4089-489b-e63f-28e03287365d"
      },
      "outputs": [
        {
          "output_type": "execute_result",
          "data": {
            "text/plain": [
              "<matplotlib.image.AxesImage at 0x7fa28bee67f0>"
            ]
          },
          "metadata": {},
          "execution_count": 12
        },
        {
          "output_type": "display_data",
          "data": {
            "text/plain": [
              "<Figure size 640x480 with 1 Axes>"
            ],
            "image/png": "[encoded data removed]"
          },
          "metadata": {}
        }
      ],
      "source": [
        "# Vista previa\n",
        "plt.imshow(mytest_images,cmap=\"gray\")"
      ]
    },
    {
      "cell_type": "markdown",
      "source": [
        "Una vez importadas las imagenes se redimensionan a 28x28 pixeles y se invierten los colores."
      ],
      "metadata": {
        "id": "X-tWRk7G_655"
      }
    },
    {
      "cell_type": "code",
      "execution_count": 13,
      "metadata": {
        "colab": {
          "base_uri": "https://localhost:8080/",
          "height": 448
        },
        "id": "oAx4SIG8H0vB",
        "outputId": "12fe9dcd-4fcf-4f2b-e869-eb7ac19f396d"
      },
      "outputs": [
        {
          "output_type": "execute_result",
          "data": {
            "text/plain": [
              "<matplotlib.image.AxesImage at 0x7fa28bd879d0>"
            ]
          },
          "metadata": {},
          "execution_count": 13
        },
        {
          "output_type": "display_data",
          "data": {
            "text/plain": [
              "<Figure size 640x480 with 1 Axes>"
            ],
            "image/png": "[encoded data removed]"
          },
          "metadata": {}
        }
      ],
      "source": [
        "# Formato para imagen\n",
        "img_resized = cv2.resize(mytest_images,(28,28),interpolation=cv2.INTER_LINEAR)\n",
        "img_resized = cv2.bitwise_not(img_resized)\n",
        "\n",
        "# Vista \n",
        "plt.imshow(img_resized,cmap='gray')"
      ]
    },
    {
      "cell_type": "code",
      "execution_count": 14,
      "metadata": {
        "id": "CmrRkHvFJxwH"
      },
      "outputs": [],
      "source": [
        "# En ds_team_labels.append(\"_\") se debera colocar la etiqueta con la que se desea guardar la imagen\n",
        "ds_team.append(img_resized)\n",
        "ds_team_labels.append(\"9\")"
      ]
    },
    {
      "cell_type": "code",
      "execution_count": null,
      "metadata": {
        "colab": {
          "base_uri": "https://localhost:8080/"
        },
        "id": "B9mM7HuFKA7m",
        "outputId": "0027d433-b0fd-436c-c9d4-ad1334cf868d"
      },
      "outputs": [
        {
          "output_type": "execute_result",
          "data": {
            "text/plain": [
              "100"
            ]
          },
          "metadata": {},
          "execution_count": 479
        }
      ],
      "source": [
        "# Cantidad de imagenes en dataset\n",
        "len(ds_team)"
      ]
    },
    {
      "cell_type": "code",
      "execution_count": null,
      "metadata": {
        "colab": {
          "base_uri": "https://localhost:8080/",
          "height": 35
        },
        "id": "8t3uKjcCKUu4",
        "outputId": "ec6f6c39-5ea1-4215-9f1e-9b4090b86ca5"
      },
      "outputs": [
        {
          "output_type": "execute_result",
          "data": {
            "text/plain": [
              "'9'"
            ],
            "application/vnd.google.colaboratory.intrinsic+json": {
              "type": "string"
            }
          },
          "metadata": {},
          "execution_count": 480
        }
      ],
      "source": [
        "# Etiqueta de la última imagen guardada\n",
        "ds_team_labels[-1]"
      ]
    },
    {
      "cell_type": "markdown",
      "source": [
        "Una vez cargado nuestro dataset compuesto por 400 imagenes. Se divide la lista en dos. Ya que el 70% (380) será utilizada como train_images y el 30% (120) restante como test_images."
      ],
      "metadata": {
        "id": "hWH0HWl_FxEK"
      }
    },
    {
      "cell_type": "code",
      "source": [
        "from numpy.ma.core import indices\n",
        "longitud=len(ds_team)\n",
        "num_primera_parte = int(longitud*0.7)\n",
        "indices= list(range(longitud))"
      ],
      "metadata": {
        "id": "Q7wZz_kcHIW1"
      },
      "execution_count": null,
      "outputs": []
    },
    {
      "cell_type": "markdown",
      "source": [
        "Crea las dos listas de imagenes"
      ],
      "metadata": {
        "id": "QdEDPnQhco2J"
      }
    },
    {
      "cell_type": "code",
      "source": [
        "MyTrain_images = [ds_team[i] for i in indices[:num_primera_parte]]\n",
        "MyTest_images = [ds_team[i] for i in indices[num_primera_parte:]]"
      ],
      "metadata": {
        "id": "W9X2SDxCbSlS"
      },
      "execution_count": null,
      "outputs": []
    },
    {
      "cell_type": "code",
      "source": [
        "print(\"MyTrain_images:\")\n",
        "for imagen in MyTrain_images:\n",
        "  display(imagen)\n",
        "print(\"MyTest_images:\")\n",
        "for imagen in MyTest_images:\n",
        "  display(imagen)"
      ],
      "metadata": {
        "id": "K-OEx6zYc1VC"
      },
      "execution_count": null,
      "outputs": []
    },
    {
      "cell_type": "markdown",
      "source": [
        "**Pre-Procese el set de datos**"
      ],
      "metadata": {
        "id": "WTwVkGf2GfmI"
      }
    },
    {
      "cell_type": "markdown",
      "source": [
        "El set de datos debe ser pre-procesado antes de entrenar la red. Si usted inspecciona la primera imagen en el set de entrenamiento va a encontrar que los valores de los pixeles estan entre 0 y 255."
      ],
      "metadata": {
        "id": "JdmUm9fEGlWK"
      }
    },
    {
      "cell_type": "code",
      "source": [
        "plt.figure()\n",
        "plt.imshow(ds_team[83])\n",
        "plt.colorbar()\n",
        "plt.grid(False)\n",
        "plt.show()"
      ],
      "metadata": {
        "colab": {
          "base_uri": "https://localhost:8080/",
          "height": 430
        },
        "id": "r8BOKzO7GtHJ",
        "outputId": "7003af85-1fa5-4091-ad29-5de0c0652daa"
      },
      "execution_count": null,
      "outputs": [
        {
          "output_type": "display_data",
          "data": {
            "text/plain": [
              "<Figure size 640x480 with 2 Axes>"
            ],
            "image/png": "[encoded data removed]"
          },
          "metadata": {}
        }
      ]
    },
    {
      "cell_type": "markdown",
      "source": [
        "Escale estos valores en un rango de 0 a 1 antes de alimentarlos al modelo de la red neuronal. Para hacerlo, divida los valores por 255. Es importante que el training set y el testing set se pre-procesen de la misma forma:"
      ],
      "metadata": {
        "id": "kUYIkFQ2KXDp"
      }
    },
    {
      "cell_type": "code",
      "source": [
        "datos = np.array(MyTrain_images)/255.0\n",
        "datos1 = np.array(MyTest_images)/255.0"
      ],
      "metadata": {
        "id": "gEeFY4qXKXS7"
      },
      "execution_count": null,
      "outputs": []
    },
    {
      "cell_type": "markdown",
      "source": [
        "Para verificar que el set de datos esta en el formato adecuado y que estan listos para construir y entrenar la red, vamos a desplegar las primeras 25 imagenes de el training set y despleguemos el nombre de cada clase debajo de cada imagen."
      ],
      "metadata": {
        "id": "yss-rOULjy7B"
      }
    },
    {
      "cell_type": "code",
      "source": [
        "class_names = ['CERO', 'UNO','DOS','TRES','CUATRO','CINCO','SEIS','SIETE','OCHO','NUEVE']"
      ],
      "metadata": {
        "id": "ObL6peHRkVhO"
      },
      "execution_count": null,
      "outputs": []
    },
    {
      "cell_type": "code",
      "source": [
        "plt.figure(figsize=(10,10))\n",
        "for i in range(25):\n",
        "    plt.subplot(5,5,i+1)\n",
        "    plt.xticks([])\n",
        "    plt.yticks([])\n",
        "    plt.grid(False)\n",
        "    plt.imshow(datos[i], cmap=plt.cm.binary)\n",
        "plt.show()"
      ],
      "metadata": {
        "colab": {
          "base_uri": "https://localhost:8080/",
          "height": 807
        },
        "id": "ryidOy5qjzyT",
        "outputId": "e91096bd-73cb-480b-dd1d-695f731636e8"
      },
      "execution_count": null,
      "outputs": [
        {
          "output_type": "display_data",
          "data": {
            "text/plain": [
              "<Figure size 1000x1000 with 25 Axes>"
            ],
            "image/png": "[encoded data removed]"
          },
          "metadata": {}
        }
      ]
    },
    {
      "cell_type": "markdown",
      "source": [
        "**Construir modelo**"
      ],
      "metadata": {
        "id": "K8wPP0NBlUni"
      }
    },
    {
      "cell_type": "code",
      "source": [
        "model = keras.Sequential([\n",
        "    keras.layers.Flatten(input_shape=(28,28)),\n",
        "    keras.layers.Dense(128, activation='relu'),\n",
        "    keras.layers.Dense(10,activation='softmax')\n",
        "])"
      ],
      "metadata": {
        "id": "SuFmTHQNlT3i"
      },
      "execution_count": null,
      "outputs": []
    },
    {
      "cell_type": "code",
      "source": [
        "model.compile(optimizer='adam',\n",
        "              loss='sparse_categorical_crossentropy',\n",
        "              metrics=['accuracy'])"
      ],
      "metadata": {
        "id": "SNjupD22lLX7"
      },
      "execution_count": null,
      "outputs": []
    },
    {
      "cell_type": "code",
      "source": [
        "model.fit(datos,ds_team_labels, epochs=10)"
      ],
      "metadata": {
        "id": "lrmyuCOmlk_C"
      },
      "execution_count": null,
      "outputs": []
    },
    {
      "cell_type": "markdown",
      "metadata": {
        "id": "ZhmX7kEjUtZw"
      },
      "source": [
        "**Cargar conjunto de datos MNIST**"
      ]
    },
    {
      "cell_type": "code",
      "execution_count": 16,
      "metadata": {
        "id": "Kw5h113tUywh",
        "colab": {
          "base_uri": "https://localhost:8080/"
        },
        "outputId": "77a477f2-eb2d-4c83-a00d-9f3d275fbce2"
      },
      "outputs": [
        {
          "output_type": "stream",
          "name": "stdout",
          "text": [
            "Downloading data from https://storage.googleapis.com/tensorflow/tf-keras-datasets/mnist.npz\n",
            "11490434/11490434 [==============================] - 0s 0us/step\n"
          ]
        }
      ],
      "source": [
        "digits_mnist = keras.datasets.mnist\n",
        "\n",
        "(train_images, train_labels), (test_images, test_labels)=digits_mnist.load_data()"
      ]
    },
    {
      "cell_type": "markdown",
      "metadata": {
        "id": "qLZUpPuAXZuL"
      },
      "source": [
        "Cada imagen es mapeada a una unica etiqueta. Ya que los Class names no están incluidos en  el dataset, alacenelo aca para usarlos luego cuando se visualicen las imagenes:"
      ]
    },
    {
      "cell_type": "code",
      "execution_count": 17,
      "metadata": {
        "id": "oBE4SjkwXo58"
      },
      "outputs": [],
      "source": [
        "class_names = ['CERO', 'UNO','DOS','TRES','CUATRO','CINCO','SEIS','SIETE','OCHO','NUEVE']"
      ]
    },
    {
      "cell_type": "markdown",
      "metadata": {
        "id": "dHoFlu7AWRsw"
      },
      "source": [
        "**Explore el set de datos**"
      ]
    },
    {
      "cell_type": "markdown",
      "metadata": {
        "id": "NuSCM-sdWYKZ"
      },
      "source": [
        "Explore el formato del set de datos antes de entrenar el modelo. Lo siguiente muestra que hay 60,000 imagenes en el set de entrenamiento, con cada imagen representada por pixeles de 28x28:"
      ]
    },
    {
      "cell_type": "code",
      "execution_count": 18,
      "metadata": {
        "colab": {
          "base_uri": "https://localhost:8080/"
        },
        "id": "WdXcaFF_WVq0",
        "outputId": "cc01e6f2-126f-4925-bb9b-eb5de6bbe37e"
      },
      "outputs": [
        {
          "output_type": "execute_result",
          "data": {
            "text/plain": [
              "(60000, 28, 28)"
            ]
          },
          "metadata": {},
          "execution_count": 18
        }
      ],
      "source": [
        "train_images.shape"
      ]
    },
    {
      "cell_type": "markdown",
      "metadata": {
        "id": "M37YpHj9W0WX"
      },
      "source": [
        "Asimismo, hay 60,000 etiquetas en el set de entrenamiento:"
      ]
    },
    {
      "cell_type": "code",
      "execution_count": 19,
      "metadata": {
        "colab": {
          "base_uri": "https://localhost:8080/"
        },
        "id": "0nDhdECuW6_-",
        "outputId": "ddf6a9cc-1ac9-43cd-c78b-d34d81b12a6d"
      },
      "outputs": [
        {
          "output_type": "execute_result",
          "data": {
            "text/plain": [
              "60000"
            ]
          },
          "metadata": {},
          "execution_count": 19
        }
      ],
      "source": [
        "len(train_labels)"
      ]
    },
    {
      "cell_type": "markdown",
      "metadata": {
        "id": "uBWMpGFKXARz"
      },
      "source": [
        "Cada etiqueta es un int entre 0 y 9:"
      ]
    },
    {
      "cell_type": "code",
      "execution_count": 20,
      "metadata": {
        "colab": {
          "base_uri": "https://localhost:8080/"
        },
        "id": "Y-fA8q-RXGDF",
        "outputId": "67742408-d89f-4ef4-a1e5-f0f1b8182749"
      },
      "outputs": [
        {
          "output_type": "execute_result",
          "data": {
            "text/plain": [
              "array([5, 0, 4, ..., 5, 6, 8], dtype=uint8)"
            ]
          },
          "metadata": {},
          "execution_count": 20
        }
      ],
      "source": [
        "train_labels"
      ]
    },
    {
      "cell_type": "markdown",
      "metadata": {
        "id": "e5rFrEAeYlpu"
      },
      "source": [
        "Hay 10,000 imagenes en el set de pruebas. Otra vez, cada imagen es representada como pixeles de 28x28:"
      ]
    },
    {
      "cell_type": "code",
      "execution_count": 21,
      "metadata": {
        "colab": {
          "base_uri": "https://localhost:8080/"
        },
        "id": "cKMHZwfjYzRA",
        "outputId": "e1241917-02ff-46e2-f455-ff85a842e51d"
      },
      "outputs": [
        {
          "output_type": "execute_result",
          "data": {
            "text/plain": [
              "(10000, 28, 28)"
            ]
          },
          "metadata": {},
          "execution_count": 21
        }
      ],
      "source": [
        "test_images.shape"
      ]
    },
    {
      "cell_type": "markdown",
      "metadata": {
        "id": "s7OfHulIY_WG"
      },
      "source": [
        "Y el set de pruebas contiene 10,000 etiquetas de imagen:"
      ]
    },
    {
      "cell_type": "code",
      "execution_count": 22,
      "metadata": {
        "colab": {
          "base_uri": "https://localhost:8080/"
        },
        "id": "U_3H-iBZZE_e",
        "outputId": "4b82ab15-ca35-43c7-bec7-d79c254ee86e"
      },
      "outputs": [
        {
          "output_type": "execute_result",
          "data": {
            "text/plain": [
              "10000"
            ]
          },
          "metadata": {},
          "execution_count": 22
        }
      ],
      "source": [
        "len(test_labels)"
      ]
    },
    {
      "cell_type": "markdown",
      "metadata": {
        "id": "_ex4P6VVZMSn"
      },
      "source": [
        "**Pre-Procese el set de datos**"
      ]
    },
    {
      "cell_type": "markdown",
      "metadata": {
        "id": "3PCZro1fZcBv"
      },
      "source": [
        "El set de datos debe ser pre-procesado antes de entrenar la red. Si usted inspecciona la primera imagen en el set de entrenamiento va a encontrar que los valores de los pixeles estan entre 0 y 255"
      ]
    },
    {
      "cell_type": "code",
      "execution_count": 23,
      "metadata": {
        "colab": {
          "base_uri": "https://localhost:8080/",
          "height": 430
        },
        "id": "I2YRH7zIZZ5C",
        "outputId": "867b98a4-be5e-4d43-bed9-687a2ef5d006"
      },
      "outputs": [
        {
          "output_type": "display_data",
          "data": {
            "text/plain": [
              "<Figure size 640x480 with 2 Axes>"
            ],
            "image/png": "[encoded data removed]"
          },
          "metadata": {}
        }
      ],
      "source": [
        "plt.figure()\n",
        "plt.imshow(train_images[-1])\n",
        "plt.colorbar()\n",
        "plt.grid(False)\n",
        "plt.show()"
      ]
    },
    {
      "cell_type": "markdown",
      "metadata": {
        "id": "x8fYBxQij_yC"
      },
      "source": [
        "Escale estos valores en un rango de 0 a 1 antes de alimentarlos al modelo de la red neuronal. Para hacerlo, divida los valores por 255. Es importante que el training set y el testing set se pre-procesen de la misma forma:"
      ]
    },
    {
      "cell_type": "code",
      "execution_count": 24,
      "metadata": {
        "id": "wNkZ8kPdyQkw"
      },
      "outputs": [],
      "source": [
        "train_images=train_images/255.0\n",
        "\n",
        "test_images=test_images/255.0"
      ]
    },
    {
      "cell_type": "markdown",
      "metadata": {
        "id": "F2ki3iq-ywyP"
      },
      "source": [
        "Para verificar que el set de datos esta en el formato adecuado y que estan listos para construir y entrenar la red, vamos a desplegar las primeras 25 imagenes de el training set y despleguemos el nombre de cada clase debajo de cada imagen."
      ]
    },
    {
      "cell_type": "code",
      "execution_count": 25,
      "metadata": {
        "colab": {
          "base_uri": "https://localhost:8080/",
          "height": 826
        },
        "id": "EYiG2q4QzN8t",
        "outputId": "0efe096f-aaea-4479-8d2c-39bad73b3396"
      },
      "outputs": [
        {
          "output_type": "display_data",
          "data": {
            "text/plain": [
              "<Figure size 1000x1000 with 25 Axes>"
            ],
            "image/png": "[encoded data removed]"
          },
          "metadata": {}
        }
      ],
      "source": [
        "plt.figure(figsize=(10,10))\n",
        "for i in range(25):\n",
        "  plt.subplot(5,5,i+1)\n",
        "  plt.xticks([])\n",
        "  plt.yticks([])\n",
        "  plt.grid(False)\n",
        "  plt.imshow(train_images[i],cmap=plt.cm.binary)\n",
        "  plt.xlabel(class_names[train_labels[i]])\n",
        "plt.show()"
      ]
    },
    {
      "cell_type": "markdown",
      "metadata": {
        "id": "VYNZ173D1aHe"
      },
      "source": [
        "**Construir modelo**"
      ]
    },
    {
      "cell_type": "markdown",
      "metadata": {
        "id": "u9t6Jbl21fjb"
      },
      "source": [
        "Construir la red neuronal requiere configurar las capas del modelo y luego compilar el modelo."
      ]
    },
    {
      "cell_type": "markdown",
      "metadata": {
        "id": "HeJOF7wJ1qii"
      },
      "source": [
        "**Configurar las capas**"
      ]
    },
    {
      "cell_type": "markdown",
      "metadata": {
        "id": "QdG5wOCh1uqF"
      },
      "source": [
        "Los bloques de construcción basicos de una red neuronal son las capas o layers. Las capas extraen representaciones de el set de datos que se les alimentan. Con suerte, estas representaciones son cosiderables para el problema que estamos solucionando.\n",
        "\n",
        "La mayoria de aprednizaje profundo consiste de unir capas sencillas. La mayoria de las capas como tf.keras.layers.Dense, tienen parametros que son aprendidos durante el entrenamiento."
      ]
    },
    {
      "cell_type": "code",
      "execution_count": 26,
      "metadata": {
        "id": "DOKkQ38x2QJL"
      },
      "outputs": [],
      "source": [
        "model = keras.Sequential([\n",
        "    keras.layers.Flatten(input_shape=(28,28)),\n",
        "    keras.layers.Dense(128, activation='relu'),\n",
        "    keras.layers.Dense(10,activation='softmax')\n",
        "])"
      ]
    },
    {
      "cell_type": "markdown",
      "metadata": {
        "id": "GGOUUVME3MTW"
      },
      "source": [
        "La primera capa de esta red, tf.keras.layers.Flatten, transforma el formato de las imagenes de un arreglo bi-dimensional (de 28 por 28 pixeles) a un arrelo uni dimensional (de 28*28 pixeles = 784 pixeles), observe esta capa como una capa no apilada de filas de pixeles en la misma imagen y alineandolo. Esta capa no tiene parametros que aprenderm solo reformatea el set de datos.\n",
        "\n",
        "Despues de que los pixeles esten \"aplanados\", la secuencia consiste de dos capas tf.keras.layers.Dense. Estas estan densamente conectadas, o completamente conectadas. La primera capa Dense tiene 128 nodos (o neuronas). La segunda (y ultima) capa es una capa de 10 nodos softmax que devuelve un arreglo de 10 posibilidades que suman a 1. Cada nodo contiene una calificación que indica la probabilidad que la actual imagen pertenece a una de las 10 clases."
      ]
    },
    {
      "cell_type": "markdown",
      "metadata": {
        "id": "BsJiYFT04hB8"
      },
      "source": [
        "**Compile el modelo**"
      ]
    },
    {
      "cell_type": "markdown",
      "metadata": {
        "id": "4np6hwO55AdL"
      },
      "source": [
        "Antes de que el modelo este listo para entrenar, se necesitan algunas configuraciones mas. Estas son agregadas durante el paso de compilacion del modelo:\n",
        "\n",
        "Loss function - Esto mide que tan exacto es el modelo durante el entrenamiento. Quiere minimizar esta funcion para dirigir el modelo en la dirección adecuada.\n",
        "\n",
        "Optimizer - Esto es como el modelo se actualiza basado en el set de datos que ve y la funcion de perdida.\n",
        "\n",
        "Metrics - Se usan para monitorear los pasos de entrenamiento y de pruebas. El siguiente ejemplo usa accuracy (exactitud), la fracción de la imagenes que son correctamente clasificadas."
      ]
    },
    {
      "cell_type": "code",
      "execution_count": 27,
      "metadata": {
        "id": "4gGYTODc7CCx"
      },
      "outputs": [],
      "source": [
        "model.compile(optimizer='adam',\n",
        "              loss='sparse_categorical_crossentropy',\n",
        "              metrics=['accuracy'])"
      ]
    },
    {
      "cell_type": "markdown",
      "metadata": {
        "id": "YxjHN-Sy7rGr"
      },
      "source": [
        "**Entrenar el modelo**"
      ]
    },
    {
      "cell_type": "markdown",
      "metadata": {
        "id": "8rVos9vs7ukh"
      },
      "source": [
        "Entrenar el modelo de red neuronal requiere de los siguientes pasos: \n",
        "\n",
        "1. Entregue los datos de entrenamiento al modelo. En este ejemplo, el set de \n",
        "  de datos de entrenamiento estan en los arreglos train_images y train_labes.\n",
        "2. El modelo aprende a asociar imagenes y etiquetas.\n",
        "3. Usted le pregunta al modelo que haga predicciones sobre un set de datos que \n",
        "  se encuentran en el ejemplo, incluido en el arreglo test_images. Verifique que las preducciones sean iguales a las etiquetas de el arreglo test_labels.\n",
        "\n"
      ]
    },
    {
      "cell_type": "markdown",
      "metadata": {
        "id": "Ffqgp6kE8yXK"
      },
      "source": [
        "Para comenzar a entrenar, llame el metodo model.fit, es llamado asi por que fin (ajusta) el modelo a el set de datos de entrenamiento:"
      ]
    },
    {
      "cell_type": "code",
      "execution_count": 28,
      "metadata": {
        "colab": {
          "base_uri": "https://localhost:8080/"
        },
        "id": "11Zmmoi-9Yz2",
        "outputId": "b08632c8-115f-4615-fd8e-7d7cc3b352c9"
      },
      "outputs": [
        {
          "output_type": "stream",
          "name": "stdout",
          "text": [
            "Epoch 1/10\n",
            "1875/1875 [==============================] - 11s 5ms/step - loss: 0.2603 - accuracy: 0.9250\n",
            "Epoch 2/10\n",
            "1875/1875 [==============================] - 8s 4ms/step - loss: 0.1143 - accuracy: 0.9667\n",
            "Epoch 3/10\n",
            "1875/1875 [==============================] - 7s 4ms/step - loss: 0.0765 - accuracy: 0.9768\n",
            "Epoch 4/10\n",
            "1875/1875 [==============================] - 10s 5ms/step - loss: 0.0584 - accuracy: 0.9822\n",
            "Epoch 5/10\n",
            "1875/1875 [==============================] - 9s 5ms/step - loss: 0.0443 - accuracy: 0.9867\n",
            "Epoch 6/10\n",
            "1875/1875 [==============================] - 7s 3ms/step - loss: 0.0354 - accuracy: 0.9894\n",
            "Epoch 7/10\n",
            "1875/1875 [==============================] - 9s 5ms/step - loss: 0.0285 - accuracy: 0.9912\n",
            "Epoch 8/10\n",
            "1875/1875 [==============================] - 8s 4ms/step - loss: 0.0235 - accuracy: 0.9926\n",
            "Epoch 9/10\n",
            "1875/1875 [==============================] - 9s 5ms/step - loss: 0.0190 - accuracy: 0.9943\n",
            "Epoch 10/10\n",
            "1875/1875 [==============================] - 8s 4ms/step - loss: 0.0162 - accuracy: 0.9950\n"
          ]
        },
        {
          "output_type": "execute_result",
          "data": {
            "text/plain": [
              "<keras.callbacks.History at 0x7fa26c456940>"
            ]
          },
          "metadata": {},
          "execution_count": 28
        }
      ],
      "source": [
        "model.fit(train_images,train_labels, epochs=10)"
      ]
    },
    {
      "cell_type": "markdown",
      "metadata": {
        "id": "Rtz1L8GG-h2H"
      },
      "source": [
        "A medida que el modelo entrena, la perdida y la exactitud son desplegadas. Este modelo alcanza una exactitud de 0.88 sobre el set de datos de entrenamiento."
      ]
    },
    {
      "cell_type": "markdown",
      "metadata": {
        "id": "jxY5-j7H-wkM"
      },
      "source": [
        "**Evaluar exactitud**"
      ]
    },
    {
      "cell_type": "markdown",
      "metadata": {
        "id": "J6hlASEX-0Zy"
      },
      "source": [
        "Siguiente, compare como el rendimiento del modelo sobre el set de datos:"
      ]
    },
    {
      "cell_type": "code",
      "execution_count": 39,
      "metadata": {
        "colab": {
          "base_uri": "https://localhost:8080/"
        },
        "id": "vnjH0-6--70w",
        "outputId": "b17d6b46-48c1-4575-9dee-6c74b3844eee"
      },
      "outputs": [
        {
          "output_type": "stream",
          "name": "stdout",
          "text": [
            "313/313 - 0s - loss: 0.0844 - accuracy: 0.9765 - 469ms/epoch - 1ms/step\n",
            "\n",
            "Test accuracy: 0.9764999747276306\n"
          ]
        }
      ],
      "source": [
        "test_loss, test_acc = model.evaluate(test_images, test_labels, verbose=2)\n",
        "\n",
        "print('\\nTest accuracy:',test_acc)"
      ]
    },
    {
      "cell_type": "markdown",
      "metadata": {
        "id": "xF82lPlI_oFP"
      },
      "source": [
        "**Hacer predicciones**"
      ]
    },
    {
      "cell_type": "markdown",
      "metadata": {
        "id": "nUY5OZ0j_sL2"
      },
      "source": [
        "Con el modelo entrenado usted puede usarlo para hacer predicciones sobre imagenes."
      ]
    },
    {
      "cell_type": "code",
      "execution_count": 40,
      "metadata": {
        "colab": {
          "base_uri": "https://localhost:8080/"
        },
        "id": "oaVrnFxq_0Qm",
        "outputId": "d18d8f8b-5b44-4dcf-f38e-d7c344fbbb61"
      },
      "outputs": [
        {
          "output_type": "stream",
          "name": "stdout",
          "text": [
            "313/313 [==============================] - 1s 2ms/step\n"
          ]
        }
      ],
      "source": [
        "predictions = model.predict(test_images)"
      ]
    },
    {
      "cell_type": "markdown",
      "metadata": {
        "id": "_2yoGZ52AB3z"
      },
      "source": [
        "Aca el modelo ha precdecido la etiqueta para cada imagen en el set de datos de test (prueba). Miremos la primera predicción:"
      ]
    },
    {
      "cell_type": "code",
      "execution_count": 31,
      "metadata": {
        "colab": {
          "base_uri": "https://localhost:8080/"
        },
        "id": "nJifhpO0KM31",
        "outputId": "9781a5c1-b972-4cea-8239-67152fedc666"
      },
      "outputs": [
        {
          "output_type": "execute_result",
          "data": {
            "text/plain": [
              "array([1.41902057e-09, 1.11796454e-10, 4.59949732e-08, 5.84937341e-04,\n",
              "       7.60139998e-13, 3.71725619e-08, 1.90099160e-15, 9.99408603e-01,\n",
              "       6.04733259e-08, 6.37203993e-06], dtype=float32)"
            ]
          },
          "metadata": {},
          "execution_count": 31
        }
      ],
      "source": [
        "predictions[0]"
      ]
    },
    {
      "cell_type": "markdown",
      "metadata": {
        "id": "gcsDDhjsMx6m"
      },
      "source": [
        "Una prediccion es un arreglo de 10 numeros. Estos representan el nivel de \"confianza\" del modelo sobre las imagenes de cada uno de los 10 numeros. Ustedes pueden revisar cual tiene el nivel más alto de confianza:"
      ]
    },
    {
      "cell_type": "code",
      "execution_count": 32,
      "metadata": {
        "colab": {
          "base_uri": "https://localhost:8080/"
        },
        "id": "u1xjPcaENEqQ",
        "outputId": "8e87326d-7e0f-4912-8b01-6e427c0cc6db"
      },
      "outputs": [
        {
          "output_type": "execute_result",
          "data": {
            "text/plain": [
              "7"
            ]
          },
          "metadata": {},
          "execution_count": 32
        }
      ],
      "source": [
        "np.argmax(predictions[0])"
      ]
    },
    {
      "cell_type": "markdown",
      "metadata": {
        "id": "oTY0Duz7NXEQ"
      },
      "source": [
        "Entonces, el modelo tiene mayor confianza que esta imagen es una bota de tobillo \"ankle boot\" o class_names[9]. Examinando las etiquetas de test o de pruebas muestra que esta clasificación es correcta:"
      ]
    },
    {
      "cell_type": "code",
      "execution_count": 33,
      "metadata": {
        "colab": {
          "base_uri": "https://localhost:8080/"
        },
        "id": "VktZals5NqYC",
        "outputId": "738c62aa-c222-4b61-da19-921024b00463"
      },
      "outputs": [
        {
          "output_type": "execute_result",
          "data": {
            "text/plain": [
              "7"
            ]
          },
          "metadata": {},
          "execution_count": 33
        }
      ],
      "source": [
        "test_labels[0]"
      ]
    },
    {
      "cell_type": "markdown",
      "metadata": {
        "id": "smYPf6wsUbLj"
      },
      "source": [
        "Grafique esto para poder ver todo el set de la prediccion de las 10 clases."
      ]
    },
    {
      "cell_type": "code",
      "execution_count": 34,
      "metadata": {
        "id": "RBmXWRi-jGYl"
      },
      "outputs": [],
      "source": [
        "def plot_image(i, predictions_array, true_label, img):\n",
        "  predictions_array, true_label, img = predictions_array, true_label[i], img[i]\n",
        "  plt.grid(False)\n",
        "  plt.xticks([])\n",
        "  plt.yticks([])\n",
        "\n",
        "  plt.imshow(img, cmap=plt.cm.binary)\n",
        "\n",
        "  predicted_label = np.argmax(predictions_array)\n",
        "  if predicted_label == true_label:\n",
        "    color = 'blue'\n",
        "  else:\n",
        "    color = 'red'\n",
        "\n",
        "  plt.xlabel(\"{} {:2.0f}% ({})\".format(class_names[predicted_label],\n",
        "                                100*np.max(predictions_array),\n",
        "                                class_names[true_label]),\n",
        "                                color=color)\n",
        "\n",
        "def plot_value_array(i, predictions_array, true_label):\n",
        "  predictions_array, true_label = predictions_array, true_label[i]\n",
        "  plt.grid(False)\n",
        "  plt.xticks(range(10))\n",
        "  plt.yticks([])\n",
        "  thisplot = plt.bar(range(10), predictions_array, color=\"#777777\")\n",
        "  plt.ylim([0, 1])\n",
        "  predicted_label = np.argmax(predictions_array)\n",
        "\n",
        "  thisplot[predicted_label].set_color('red')\n",
        "  thisplot[true_label].set_color('blue')"
      ]
    },
    {
      "cell_type": "markdown",
      "metadata": {
        "id": "WHYdw2FJjdfb"
      },
      "source": []
    },
    {
      "cell_type": "code",
      "execution_count": 35,
      "metadata": {
        "colab": {
          "base_uri": "https://localhost:8080/",
          "height": 291
        },
        "id": "f1aQvZVAjewE",
        "outputId": "07983b92-4849-43b4-f238-825be417ccdc"
      },
      "outputs": [
        {
          "output_type": "display_data",
          "data": {
            "text/plain": [
              "<Figure size 600x300 with 2 Axes>"
            ],
            "image/png": "[encoded data removed]"
          },
          "metadata": {}
        }
      ],
      "source": [
        "i = 0\n",
        "plt.figure(figsize=(6,3))\n",
        "plt.subplot(1,2,1)\n",
        "plot_image(i, predictions[i], test_labels, test_images)\n",
        "plt.subplot(1,2,2)\n",
        "plot_value_array(i, predictions[i],  test_labels)\n",
        "plt.show()"
      ]
    },
    {
      "cell_type": "code",
      "execution_count": 36,
      "metadata": {
        "colab": {
          "base_uri": "https://localhost:8080/",
          "height": 291
        },
        "id": "OLkFSat9jssA",
        "outputId": "e7b2d755-9133-4654-b42b-68b6fc9e3a5d"
      },
      "outputs": [
        {
          "output_type": "display_data",
          "data": {
            "text/plain": [
              "<Figure size 600x300 with 2 Axes>"
            ],
            "image/png": "[encoded data removed]"
          },
          "metadata": {}
        }
      ],
      "source": [
        "i = 12\n",
        "plt.figure(figsize=(6,3))\n",
        "plt.subplot(1,2,1)\n",
        "plot_image(i, predictions[i], test_labels, test_images)\n",
        "plt.subplot(1,2,2)\n",
        "plot_value_array(i, predictions[i],  test_labels)\n",
        "plt.show()"
      ]
    },
    {
      "cell_type": "markdown",
      "metadata": {
        "id": "7k3YsY5jjxG0"
      },
      "source": []
    },
    {
      "cell_type": "code",
      "execution_count": 37,
      "metadata": {
        "colab": {
          "base_uri": "https://localhost:8080/",
          "height": 1000
        },
        "id": "aR7Krx0mjxko",
        "outputId": "c335182a-14f7-47b2-d62a-4c7196799ab5"
      },
      "outputs": [
        {
          "output_type": "display_data",
          "data": {
            "text/plain": [
              "<Figure size 1200x1000 with 30 Axes>"
            ],
            "image/png": "[encoded data removed]"
          },
          "metadata": {}
        }
      ],
      "source": [
        "# Plot the first X test images, their predicted labels, and the true labels.\n",
        "# Color correct predictions in blue and incorrect predictions in red.\n",
        "num_rows = 5\n",
        "num_cols = 3\n",
        "num_images = num_rows*num_cols\n",
        "plt.figure(figsize=(2*2*num_cols, 2*num_rows))\n",
        "for i in range(num_images):\n",
        "  plt.subplot(num_rows, 2*num_cols, 2*i+1)\n",
        "  plot_image(i, predictions[i], test_labels, test_images)\n",
        "  plt.subplot(num_rows, 2*num_cols, 2*i+2)\n",
        "  plot_value_array(i, predictions[i], test_labels)\n",
        "plt.tight_layout()\n",
        "plt.show()"
      ]
    },
    {
      "cell_type": "markdown",
      "metadata": {
        "id": "085UAI3SkKux"
      },
      "source": []
    },
    {
      "cell_type": "code",
      "execution_count": 38,
      "metadata": {
        "colab": {
          "base_uri": "https://localhost:8080/"
        },
        "id": "YPTT82RYkLHp",
        "outputId": "2b1334f8-8f04-48c7-f8da-63efb0b44463"
      },
      "outputs": [
        {
          "output_type": "stream",
          "name": "stdout",
          "text": [
            "(28, 28)\n"
          ]
        }
      ],
      "source": [
        "# Grab an image from the test dataset.\n",
        "img = test_images[1]\n",
        "\n",
        "print(img.shape)"
      ]
    },
    {
      "cell_type": "markdown",
      "metadata": {
        "id": "gvhUjV4LkO9A"
      },
      "source": []
    }
  ],
  "metadata": {
    "colab": {
      "provenance": [],
      "mount_file_id": "1vT0PMV667ACtC2weHCGWJjgbNw53NKCd",
      "authorship_tag": "ABX9TyN1jqcmwMnAPV5t3Cv1SrsP",
      "include_colab_link": true
    },
    "kernelspec": {
      "display_name": "Python 3",
      "name": "python3"
    },
    "language_info": {
      "name": "python"
    }
  },
  "nbformat": 4,
  "nbformat_minor": 0
}