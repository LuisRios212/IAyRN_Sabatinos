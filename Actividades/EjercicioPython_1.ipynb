{
  "nbformat": 4,
  "nbformat_minor": 0,
  "metadata": {
    "colab": {
      "provenance": []
    },
    "kernelspec": {
      "name": "python3",
      "display_name": "Python 3"
    },
    "language_info": {
      "name": "python"
    }
  },
  "cells": [
    {
      "cell_type": "markdown",
      "source": [
        "### **NOMBRE: LUIS HUMBERTO RIOS RUIZ   MATRICULA:1863130  HORA CLASE: N1-N3 SABATINO**"
      ],
      "metadata": {
        "id": "WnKv9uL-0iFf"
      }
    },
    {
      "cell_type": "markdown",
      "source": [
        "# **ALGORITMO 1**"
      ],
      "metadata": {
        "id": "ubockoZq0l0y"
      }
    },
    {
      "cell_type": "code",
      "source": [
        "name = input (\"¿Cúal es tu nombre? \");\n",
        "\n",
        "if name in [\"Ana\",\"Juan\",\"Pedro\"]:\n",
        "  print(\"ERROR 404\")\n",
        "else:\n",
        "    print(\"Hola,\"+ name)"
      ],
      "metadata": {
        "colab": {
          "base_uri": "https://localhost:8080/"
        },
        "id": "3tFZvrhf0spL",
        "outputId": "57cca051-a758-467d-e153-35772e5258ca"
      },
      "execution_count": 49,
      "outputs": [
        {
          "output_type": "stream",
          "name": "stdout",
          "text": [
            "¿Cúal es tu nombre? Ana\n",
            "ERROR 404\n"
          ]
        }
      ]
    },
    {
      "cell_type": "markdown",
      "source": [
        "## **ALGORITMO 2**\n"
      ],
      "metadata": {
        "id": "A4hSXRUn4LZY"
      }
    },
    {
      "cell_type": "code",
      "source": [
        "lst1=[]\n",
        "n=int(input(\"Ingresa numero de elementos:  \"))\n",
        "\n",
        "for i in range(0,n):\n",
        "  ele=input(\"Ingresa dato:  \")\n",
        "  lst1.append(ele)\n",
        "\n",
        "lst2=lst1[:]\n",
        "lst2.reverse()\n",
        "\n",
        "print(\"Lista 0riginal\",lst1)\n",
        "print(\"Lista Invertida\",lst2)"
      ],
      "metadata": {
        "colab": {
          "base_uri": "https://localhost:8080/"
        },
        "id": "GgRHWMfEOgX9",
        "outputId": "55ff0556-d08c-41a1-ad1b-0e76dabb9c97"
      },
      "execution_count": 48,
      "outputs": [
        {
          "output_type": "stream",
          "name": "stdout",
          "text": [
            "Ingresa numero de elementos:  4\n",
            "Ingresa dato:  l\n",
            "Ingresa dato:  s\n",
            "Ingresa dato:  d\n",
            "Ingresa dato:  s\n",
            "Lista 0riginal ['l', 's', 'd', 's']\n",
            "Lista Invertida ['s', 'd', 's', 'l']\n"
          ]
        }
      ]
    },
    {
      "cell_type": "markdown",
      "source": [
        "# **Algoritmo 3**"
      ],
      "metadata": {
        "id": "jjq08HfMSkU1"
      }
    },
    {
      "cell_type": "code",
      "source": [
        "def fib(n):\n",
        "  a=0\n",
        "  b=1\n",
        "\n",
        "  for k in range(n):\n",
        "    c=a+b\n",
        "    a=b\n",
        "    b=c\n",
        "  return b\n",
        "\n",
        "def fib_r(n):\n",
        "  if n<2:\n",
        "    return n\n",
        "  return fib_r(n-1)+fib_r(n-2)\n",
        "\n",
        "for x in range(20):\n",
        "    print(fib_r(x))"
      ],
      "metadata": {
        "colab": {
          "base_uri": "https://localhost:8080/"
        },
        "id": "xLBdMhg_SpAy",
        "outputId": "ec4f5cb8-8347-42c9-feee-545e8c4abaaa"
      },
      "execution_count": 54,
      "outputs": [
        {
          "output_type": "stream",
          "name": "stdout",
          "text": [
            "0\n",
            "1\n",
            "1\n",
            "2\n",
            "3\n",
            "5\n",
            "8\n",
            "13\n",
            "21\n",
            "34\n",
            "55\n",
            "89\n",
            "144\n",
            "233\n",
            "377\n",
            "610\n",
            "987\n",
            "1597\n",
            "2584\n",
            "4181\n"
          ]
        }
      ]
    }
  ]
}